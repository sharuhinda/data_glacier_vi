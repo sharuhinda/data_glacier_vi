{
 "cells": [
  {
   "cell_type": "code",
   "execution_count": 20,
   "metadata": {},
   "outputs": [],
   "source": [
    "import numpy as np\n",
    "import pandas as pd\n",
    "import matplotlib.pyplot as plt\n",
    "import seaborn as sns\n",
    "\n",
    "import sklearn as skl\n",
    "from sklearn.datasets import load_diabetes\n",
    "\n",
    "from sklearn.linear_model import ElasticNet\n",
    "from sklearn.model_selection import GridSearchCV, train_test_split\n",
    "from sklearn.preprocessing import MinMaxScaler\n",
    "from sklearn.metrics import mean_squared_error, mean_absolute_error\n",
    "\n",
    "import scipy.stats as stats"
   ]
  },
  {
   "cell_type": "code",
   "execution_count": 2,
   "metadata": {},
   "outputs": [],
   "source": [
    "X, y = load_diabetes(return_X_y=True, as_frame=True, scaled=False)\n",
    "X.head()"
   ]
  },
  {
   "cell_type": "code",
   "execution_count": 5,
   "metadata": {},
   "outputs": [
    {
     "data": {
      "text/html": [
       "<div>\n",
       "<style scoped>\n",
       "    .dataframe tbody tr th:only-of-type {\n",
       "        vertical-align: middle;\n",
       "    }\n",
       "\n",
       "    .dataframe tbody tr th {\n",
       "        vertical-align: top;\n",
       "    }\n",
       "\n",
       "    .dataframe thead th {\n",
       "        text-align: right;\n",
       "    }\n",
       "</style>\n",
       "<table border=\"1\" class=\"dataframe\">\n",
       "  <thead>\n",
       "    <tr style=\"text-align: right;\">\n",
       "      <th></th>\n",
       "      <th>age</th>\n",
       "      <th>sex</th>\n",
       "      <th>bmi</th>\n",
       "      <th>bp</th>\n",
       "      <th>s3</th>\n",
       "    </tr>\n",
       "  </thead>\n",
       "  <tbody>\n",
       "    <tr>\n",
       "      <th>0</th>\n",
       "      <td>59.0</td>\n",
       "      <td>2.0</td>\n",
       "      <td>32.1</td>\n",
       "      <td>101.0</td>\n",
       "      <td>38.0</td>\n",
       "    </tr>\n",
       "    <tr>\n",
       "      <th>1</th>\n",
       "      <td>48.0</td>\n",
       "      <td>1.0</td>\n",
       "      <td>21.6</td>\n",
       "      <td>87.0</td>\n",
       "      <td>70.0</td>\n",
       "    </tr>\n",
       "    <tr>\n",
       "      <th>2</th>\n",
       "      <td>72.0</td>\n",
       "      <td>2.0</td>\n",
       "      <td>30.5</td>\n",
       "      <td>93.0</td>\n",
       "      <td>41.0</td>\n",
       "    </tr>\n",
       "    <tr>\n",
       "      <th>3</th>\n",
       "      <td>24.0</td>\n",
       "      <td>1.0</td>\n",
       "      <td>25.3</td>\n",
       "      <td>84.0</td>\n",
       "      <td>40.0</td>\n",
       "    </tr>\n",
       "    <tr>\n",
       "      <th>4</th>\n",
       "      <td>50.0</td>\n",
       "      <td>1.0</td>\n",
       "      <td>23.0</td>\n",
       "      <td>101.0</td>\n",
       "      <td>52.0</td>\n",
       "    </tr>\n",
       "  </tbody>\n",
       "</table>\n",
       "</div>"
      ],
      "text/plain": [
       "    age  sex   bmi     bp    s3\n",
       "0  59.0  2.0  32.1  101.0  38.0\n",
       "1  48.0  1.0  21.6   87.0  70.0\n",
       "2  72.0  2.0  30.5   93.0  41.0\n",
       "3  24.0  1.0  25.3   84.0  40.0\n",
       "4  50.0  1.0  23.0  101.0  52.0"
      ]
     },
     "execution_count": 5,
     "metadata": {},
     "output_type": "execute_result"
    }
   ],
   "source": [
    "X = X.drop(columns=['s1', 's2', 's4', 's5', 's6'])\n",
    "X.head()"
   ]
  },
  {
   "cell_type": "code",
   "execution_count": 6,
   "metadata": {},
   "outputs": [
    {
     "data": {
      "text/plain": [
       "0    151.0\n",
       "1     75.0\n",
       "2    141.0\n",
       "3    206.0\n",
       "4    135.0\n",
       "Name: target, dtype: float64"
      ]
     },
     "execution_count": 6,
     "metadata": {},
     "output_type": "execute_result"
    }
   ],
   "source": [
    "y.head()"
   ]
  },
  {
   "cell_type": "code",
   "execution_count": 7,
   "metadata": {},
   "outputs": [
    {
     "data": {
      "text/html": [
       "<div>\n",
       "<style scoped>\n",
       "    .dataframe tbody tr th:only-of-type {\n",
       "        vertical-align: middle;\n",
       "    }\n",
       "\n",
       "    .dataframe tbody tr th {\n",
       "        vertical-align: top;\n",
       "    }\n",
       "\n",
       "    .dataframe thead th {\n",
       "        text-align: right;\n",
       "    }\n",
       "</style>\n",
       "<table border=\"1\" class=\"dataframe\">\n",
       "  <thead>\n",
       "    <tr style=\"text-align: right;\">\n",
       "      <th></th>\n",
       "      <th>age</th>\n",
       "      <th>sex</th>\n",
       "      <th>bmi</th>\n",
       "      <th>bp</th>\n",
       "      <th>s3</th>\n",
       "      <th>target</th>\n",
       "    </tr>\n",
       "  </thead>\n",
       "  <tbody>\n",
       "    <tr>\n",
       "      <th>0</th>\n",
       "      <td>59.0</td>\n",
       "      <td>2.0</td>\n",
       "      <td>32.1</td>\n",
       "      <td>101.00</td>\n",
       "      <td>38.0</td>\n",
       "      <td>151.0</td>\n",
       "    </tr>\n",
       "    <tr>\n",
       "      <th>1</th>\n",
       "      <td>48.0</td>\n",
       "      <td>1.0</td>\n",
       "      <td>21.6</td>\n",
       "      <td>87.00</td>\n",
       "      <td>70.0</td>\n",
       "      <td>75.0</td>\n",
       "    </tr>\n",
       "    <tr>\n",
       "      <th>2</th>\n",
       "      <td>72.0</td>\n",
       "      <td>2.0</td>\n",
       "      <td>30.5</td>\n",
       "      <td>93.00</td>\n",
       "      <td>41.0</td>\n",
       "      <td>141.0</td>\n",
       "    </tr>\n",
       "    <tr>\n",
       "      <th>3</th>\n",
       "      <td>24.0</td>\n",
       "      <td>1.0</td>\n",
       "      <td>25.3</td>\n",
       "      <td>84.00</td>\n",
       "      <td>40.0</td>\n",
       "      <td>206.0</td>\n",
       "    </tr>\n",
       "    <tr>\n",
       "      <th>4</th>\n",
       "      <td>50.0</td>\n",
       "      <td>1.0</td>\n",
       "      <td>23.0</td>\n",
       "      <td>101.00</td>\n",
       "      <td>52.0</td>\n",
       "      <td>135.0</td>\n",
       "    </tr>\n",
       "    <tr>\n",
       "      <th>...</th>\n",
       "      <td>...</td>\n",
       "      <td>...</td>\n",
       "      <td>...</td>\n",
       "      <td>...</td>\n",
       "      <td>...</td>\n",
       "      <td>...</td>\n",
       "    </tr>\n",
       "    <tr>\n",
       "      <th>437</th>\n",
       "      <td>60.0</td>\n",
       "      <td>2.0</td>\n",
       "      <td>28.2</td>\n",
       "      <td>112.00</td>\n",
       "      <td>42.0</td>\n",
       "      <td>178.0</td>\n",
       "    </tr>\n",
       "    <tr>\n",
       "      <th>438</th>\n",
       "      <td>47.0</td>\n",
       "      <td>2.0</td>\n",
       "      <td>24.9</td>\n",
       "      <td>75.00</td>\n",
       "      <td>42.0</td>\n",
       "      <td>104.0</td>\n",
       "    </tr>\n",
       "    <tr>\n",
       "      <th>439</th>\n",
       "      <td>60.0</td>\n",
       "      <td>2.0</td>\n",
       "      <td>24.9</td>\n",
       "      <td>99.67</td>\n",
       "      <td>43.0</td>\n",
       "      <td>132.0</td>\n",
       "    </tr>\n",
       "    <tr>\n",
       "      <th>440</th>\n",
       "      <td>36.0</td>\n",
       "      <td>1.0</td>\n",
       "      <td>30.0</td>\n",
       "      <td>95.00</td>\n",
       "      <td>42.0</td>\n",
       "      <td>220.0</td>\n",
       "    </tr>\n",
       "    <tr>\n",
       "      <th>441</th>\n",
       "      <td>36.0</td>\n",
       "      <td>1.0</td>\n",
       "      <td>19.6</td>\n",
       "      <td>71.00</td>\n",
       "      <td>97.0</td>\n",
       "      <td>57.0</td>\n",
       "    </tr>\n",
       "  </tbody>\n",
       "</table>\n",
       "<p>442 rows × 6 columns</p>\n",
       "</div>"
      ],
      "text/plain": [
       "      age  sex   bmi      bp    s3  target\n",
       "0    59.0  2.0  32.1  101.00  38.0   151.0\n",
       "1    48.0  1.0  21.6   87.00  70.0    75.0\n",
       "2    72.0  2.0  30.5   93.00  41.0   141.0\n",
       "3    24.0  1.0  25.3   84.00  40.0   206.0\n",
       "4    50.0  1.0  23.0  101.00  52.0   135.0\n",
       "..    ...  ...   ...     ...   ...     ...\n",
       "437  60.0  2.0  28.2  112.00  42.0   178.0\n",
       "438  47.0  2.0  24.9   75.00  42.0   104.0\n",
       "439  60.0  2.0  24.9   99.67  43.0   132.0\n",
       "440  36.0  1.0  30.0   95.00  42.0   220.0\n",
       "441  36.0  1.0  19.6   71.00  97.0    57.0\n",
       "\n",
       "[442 rows x 6 columns]"
      ]
     },
     "execution_count": 7,
     "metadata": {},
     "output_type": "execute_result"
    }
   ],
   "source": [
    "df_full = pd.concat([X, y], axis=1)\n",
    "df_full"
   ]
  },
  {
   "cell_type": "code",
   "execution_count": 8,
   "metadata": {},
   "outputs": [],
   "source": [
    "cm = df_full.corr()\n",
    "sns.heatmap(data=cm, cmap='Spectral')"
   ]
  },
  {
   "cell_type": "code",
   "execution_count": 11,
   "metadata": {},
   "outputs": [
    {
     "data": {
      "text/plain": [
       "PearsonRResult(statistic=0.5864501344746887, pvalue=3.4660064451654114e-42)"
      ]
     },
     "execution_count": 11,
     "metadata": {},
     "output_type": "execute_result"
    }
   ],
   "source": [
    "stats.pearsonr(df_full['bmi'], df_full['target'])"
   ]
  },
  {
   "cell_type": "code",
   "execution_count": 13,
   "metadata": {},
   "outputs": [
    {
     "name": "stdout",
     "output_type": "stream",
     "text": [
      "(353, 5) (353,)\n",
      "(89, 5) (89,)\n"
     ]
    }
   ],
   "source": [
    "X_train, X_test, y_train, y_test = train_test_split(X, y, train_size=0.8, random_state=42)\n",
    "print(X_train.shape, y_train.shape)\n",
    "print(X_test.shape, y_test.shape)"
   ]
  },
  {
   "cell_type": "markdown",
   "metadata": {},
   "source": [
    "XGBoost part is based on notebook for parameter tuning of XGBoost (@author: prasun.mishra): https://www.kaggle.com/code/prasunmishra/parameter-tuning-for-xgboost-sklearn/notebook\n"
   ]
  },
  {
   "cell_type": "code",
   "execution_count": 32,
   "metadata": {},
   "outputs": [],
   "source": [
    "from xgboost.sklearn import XGBRegressor\n",
    "import xgboost as xgb"
   ]
  },
  {
   "cell_type": "code",
   "execution_count": 40,
   "metadata": {},
   "outputs": [],
   "source": [
    "def modelfit(model, dtrain, predictors, target, useTrainCV=True, cv_folds=5, early_stopping_rounds=50):\n",
    "    \"\"\"\n",
    "    model\n",
    "    dtrain - dataset with training data (include X and y (target))\n",
    "    predictors - list of columns to use as predictors\n",
    "\n",
    "    \"\"\"\n",
    "    \n",
    "    print('*** Here in modelfit ******* Point 1')\n",
    "    if useTrainCV:\n",
    "        print('*** Here in modelfit ******* Point 2')            \n",
    "        xgb_param = model.get_xgb_params()\n",
    "        print('*** Here in modelfit ******* Point 3')\n",
    "        xgtrain = xgb.DMatrix(dtrain[predictors].values, label=dtrain[target].values)\n",
    "        print('*** Here in modelfit ******* Point 4')\n",
    "        cvresult = xgb.cv(xgb_param, xgtrain, num_boost_round=model.get_params()['n_estimators'], nfold=cv_folds,\n",
    "            metrics='mae', early_stopping_rounds=early_stopping_rounds, verbose_eval=10)\n",
    "        model.set_params(n_estimators=cvresult.shape[0])\n",
    "        print('*** Here in modelfit ******* Point 5')\n",
    "    \n",
    "    #Fit the algorithm on the data\n",
    "    print('*** Here in modelfit ******* Point 5.5')\n",
    "    print (\"Here predictors are:\", predictors)\n",
    "    model.fit(dtrain[predictors], dtrain[target], eval_metric='mae')\n",
    "    #model.fit(dtrain[predictors], dtrain['logerror'])\n",
    "    \n",
    "    \n",
    "    print('*** Here in modelfit ******* Point 6')\n",
    "    #Predict training set:\n",
    "    dtrain_predictions = model.predict(dtrain[predictors])\n",
    "    print('*** Here in modelfit ******* Point 7')\n",
    "    #dtrain_predprob = model.predict_proba(dtrain[predictors])[:,1]\n",
    "    print('*** Here in modelfit ******* Point 8')\n",
    "        \n",
    "    #Print model report:\n",
    "    print (\"\\nModel Report\")\n",
    "    print (\"\\nMSE Score (Train): %f\" % mean_squared_error(dtrain[target], dtrain_predictions)) #dtrain_predprob\n",
    "    "
   ]
  },
  {
   "cell_type": "code",
   "execution_count": 52,
   "metadata": {},
   "outputs": [
    {
     "name": "stdout",
     "output_type": "stream",
     "text": [
      "*** Here in modelfit ******* Point 1\n",
      "*** Here in modelfit ******* Point 2\n",
      "*** Here in modelfit ******* Point 3\n",
      "*** Here in modelfit ******* Point 4\n",
      "[0]\ttrain-mae:138.55365+2.02979\ttest-mae:138.66132+9.12244\n",
      "[10]\ttrain-mae:56.20094+1.24672\ttest-mae:64.51807+6.74434\n",
      "[20]\ttrain-mae:34.76605+1.27816\ttest-mae:52.14200+5.09968\n",
      "[30]\ttrain-mae:28.00447+1.06544\ttest-mae:50.31711+4.73571\n",
      "[40]\ttrain-mae:24.45733+1.07606\ttest-mae:50.37269+4.57789\n",
      "[50]\ttrain-mae:21.50383+1.01165\ttest-mae:50.55913+4.48194\n",
      "[60]\ttrain-mae:18.82254+0.86506\ttest-mae:51.11329+4.65215\n",
      "[70]\ttrain-mae:16.69459+0.76870\ttest-mae:51.29466+4.71410\n",
      "[78]\ttrain-mae:15.02788+0.77486\ttest-mae:51.12651+4.66794\n",
      "*** Here in modelfit ******* Point 5\n",
      "*** Here in modelfit ******* Point 5.5\n",
      "Here predictors are: ['age', 'sex', 'bmi', 'bp', 's3']\n",
      "*** Here in modelfit ******* Point 6\n",
      "*** Here in modelfit ******* Point 7\n",
      "*** Here in modelfit ******* Point 8\n",
      "\n",
      "Model Report\n",
      "\n",
      "MSE Score (Train): 1482.590909\n",
      "Test score: 3470.1008685572697\n"
     ]
    },
    {
     "name": "stderr",
     "output_type": "stream",
     "text": [
      "d:\\Work\\venv\\GLacierVI\\lib\\site-packages\\xgboost\\sklearn.py:861: UserWarning: `eval_metric` in `fit` method is deprecated for better compatibility with scikit-learn, use `eval_metric` in constructor or`set_params` instead.\n",
      "  warnings.warn(\n"
     ]
    }
   ],
   "source": [
    "#predictors = [x for x in train.columns if x not in [target, IDcol]] # assume predictors = list(X_train.columns)\n",
    "xgb1 = XGBRegressor(\n",
    "    learning_rate=0.1,\n",
    "    n_estimators=1000,\n",
    "    max_depth=5,\n",
    "    min_child_weight=1,\n",
    "    gamma=0,\n",
    "    subsample=0.8,\n",
    "    colsample_bytree=0.8,\n",
    "    objective= 'reg:squarederror',\n",
    "    nthread=4,\n",
    "    scale_pos_weight=1,\n",
    "    seed=27\n",
    ")\n",
    "modelfit(xgb1, pd.concat([X_train, y_train], axis=1), list(X_train.columns), 'target')\n",
    "print('Test score:', mean_squared_error(y_test, xgb1.predict(X_test)))"
   ]
  },
  {
   "cell_type": "code",
   "execution_count": 53,
   "metadata": {},
   "outputs": [
    {
     "name": "stdout",
     "output_type": "stream",
     "text": [
      "****** This is point 3\n",
      "****** This is point 4\n",
      "****** This is point 5\n",
      "{'max_depth': 3, 'min_child_weight': 3} -4096.205627735911\n",
      "****** This is point 6\n",
      "Best estimator train score: 1140.3866660678384\n",
      "Best estimator test score: 3629.454735740943\n"
     ]
    }
   ],
   "source": [
    "param_test1 = {\n",
    "    'max_depth': range(3,10,2),\n",
    "    'min_child_weight': range(1,6,2)\n",
    "}\n",
    "\n",
    "print('****** This is point 3')\n",
    "gsearch1 = GridSearchCV(\n",
    "    estimator = XGBRegressor(\n",
    "        learning_rate=0.1, n_estimators=140, max_depth=5,\n",
    "        min_child_weight=1, gamma=0, subsample=0.8, colsample_bytree=0.8,\n",
    "        objective= 'reg:squarederror', nthread=4, scale_pos_weight=1, seed=27\n",
    "    ), \n",
    "    param_grid = param_test1, scoring='neg_mean_squared_error', n_jobs=4, cv=5 #iid=False,\n",
    ")\n",
    "\n",
    "print('****** This is point 4')\n",
    "gsearch1.fit(X_train, y_train)\n",
    "print('****** This is point 5')\n",
    "print(gsearch1.best_params_, gsearch1.best_score_) #gsearch1.grid_scores_, \n",
    "print('****** This is point 6')\n",
    "print('Best estimator train score:', mean_squared_error(y_train, gsearch1.best_estimator_.predict(X_train)))\n",
    "print('Best estimator test score:', mean_squared_error(y_test, gsearch1.best_estimator_.predict(X_test)))"
   ]
  },
  {
   "cell_type": "code",
   "execution_count": 54,
   "metadata": {},
   "outputs": [],
   "source": [
    "pd.concat([X_train, y_train], axis=1).to_csv('datasets/train.csv', index=False)\n",
    "pd.concat([X_test, y_test], axis=1).to_csv('datasets/test.csv', index=False)"
   ]
  },
  {
   "cell_type": "code",
   "execution_count": 55,
   "metadata": {},
   "outputs": [
    {
     "name": "stdout",
     "output_type": "stream",
     "text": [
      "Model save completed\n"
     ]
    }
   ],
   "source": [
    "import pickle\n",
    "with open('models/xgb_v1.pkl', 'wb') as f:\n",
    "    pickle.dump(xgb1, f)\n",
    "    print('Model save completed')"
   ]
  }
 ],
 "metadata": {
  "kernelspec": {
   "display_name": "Python 3.9.7 ('GLacierVI')",
   "language": "python",
   "name": "python3"
  },
  "language_info": {
   "codemirror_mode": {
    "name": "ipython",
    "version": 3
   },
   "file_extension": ".py",
   "mimetype": "text/x-python",
   "name": "python",
   "nbconvert_exporter": "python",
   "pygments_lexer": "ipython3",
   "version": "3.9.7"
  },
  "orig_nbformat": 4,
  "vscode": {
   "interpreter": {
    "hash": "130673815ed7576d701744dbbf3b2eaeacd1f2aefc3bcfbef3e820610e530e93"
   }
  }
 },
 "nbformat": 4,
 "nbformat_minor": 2
}
